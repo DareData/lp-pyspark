{
 "cells": [
  {
   "cell_type": "code",
   "execution_count": null,
   "metadata": {},
   "outputs": [],
   "source": [
    "import pyspark.sql.functions as f\n",
    "from pyspark.sql import Window"
   ]
  },
  {
   "cell_type": "markdown",
   "metadata": {},
   "source": [
    "Let's get back to our orders dataset and practice window functions!\n",
    "\n",
    "Start by running the code below to load and join the datasets and take a look at the final dataset.\n",
    "\n",
    "Next, answer the questions below."
   ]
  },
  {
   "cell_type": "code",
   "execution_count": null,
   "metadata": {},
   "outputs": [],
   "source": [
    "df_orders = (\n",
    "    spark.read.format(\"csv\")\n",
    "    .option(\"header\", \"true\")\n",
    "    .option(\"inferSchema\", \"true\")\n",
    "    .option(\"sep\", \",\")\n",
    "    .load(\"/FileStore/lp-big-data/preprocessed-data/orders-data/orders_preprocessed.csv\")\n",
    ")\n",
    "\n",
    "df_products = (\n",
    "    spark.read.format(\"csv\")\n",
    "    .option(\"header\", \"true\")\n",
    "    .option(\"inferSchema\", \"true\")\n",
    "    .option(\"sep\", \",\")\n",
    "    .load(\"/FileStore/lp-big-data/preprocessed-data/orders-data/products_preprocessed.csv\")\n",
    ")\n",
    "\n",
    "df_orders_products = (\n",
    "    df_orders.join(\n",
    "        df_products,\n",
    "        on=['product_id'],\n",
    "        how='left'\n",
    "    )\n",
    ")\n",
    "\n",
    "df_orders_products.display()"
   ]
  },
  {
   "cell_type": "markdown",
   "metadata": {},
   "source": [
    "1. Rank each customer based on the total amount of ordered products.\n",
    "\n",
    "The ranking should have no gaps."
   ]
  },
  {
   "cell_type": "code",
   "execution_count": null,
   "metadata": {},
   "outputs": [],
   "source": [
    "# First, get the total amount of ordered products by customer\n",
    "df_total_amount = (\n",
    "    df_orders_products\n",
    "    .groupBy('customer_id')\n",
    "    .agg(f.sum('amount').alias('total_amount'))\n",
    ")\n",
    "\n",
    "df_total_amount.display()"
   ]
  },
  {
   "cell_type": "code",
   "execution_count": null,
   "metadata": {},
   "outputs": [],
   "source": [
    "# Define the window ordered by 'total_amount' in descending order\n",
    "window = Window.orderBy(f.desc('total_amount'))\n",
    "\n",
    "(\n",
    "    df_total_amount\n",
    "    # Rank the customers by their total amount of ordered products\n",
    "    .withColumn('customer_rank', f.dense_rank().over(window))\n",
    ").display()"
   ]
  },
  {
   "cell_type": "markdown",
   "metadata": {},
   "source": [
    "Here is the whole solution:"
   ]
  },
  {
   "cell_type": "code",
   "execution_count": null,
   "metadata": {},
   "outputs": [],
   "source": [
    "window = Window.orderBy(f.desc('total_amount'))\n",
    "\n",
    "(\n",
    "    df_orders_products\n",
    "    # Get the total amount of ordered products by customer\n",
    "    .groupBy('customer_id')\n",
    "    .agg(f.sum('amount').alias('total_amount'))\n",
    "    # Rank the customers by their total amount of ordered products\n",
    "    .withColumn('customer_rank', f.dense_rank().over(window))\n",
    ")\n"
   ]
  },
  {
   "cell_type": "markdown",
   "metadata": {},
   "source": [
    "2. For each customer, what is the difference in days between each of his order's placing date and the previous order's placing date?"
   ]
  },
  {
   "cell_type": "code",
   "execution_count": null,
   "metadata": {},
   "outputs": [],
   "source": [
    "# Define the window: partition by 'customer_id' and order by 'placing_date'\n",
    "window = Window.partitionBy('customer_id').orderBy('placing_date')\n",
    "\n",
    "(\n",
    "    df_orders_products\n",
    "    # Get the previous order date for each order\n",
    "    .withColumn(\n",
    "        'prev_order_date',\n",
    "        f.lag('placing_date').over(window)\n",
    "    )\n",
    "    # Calculate the difference in days between the current and previous order\n",
    "    .withColumn(\n",
    "        'days_diff',\n",
    "        f.datediff(\n",
    "            f.col('placing_date'),\n",
    "            f.col('prev_order_date')\n",
    "        )\n",
    "    )\n",
    "    .select(\n",
    "        'customer_id',\n",
    "        'order_id',\n",
    "        'placing_date',\n",
    "        'prev_order_date',\n",
    "        'days_diff'\n",
    "    )\n",
    ").display()"
   ]
  },
  {
   "cell_type": "markdown",
   "metadata": {},
   "source": [
    "3. For each customer, what is the difference in revenue between each of his orders and the average revenue of the 3 previously placed orders?"
   ]
  },
  {
   "cell_type": "code",
   "execution_count": null,
   "metadata": {},
   "outputs": [],
   "source": [
    "# Define the window: partition by 'customer_id', order by 'placing_date' and select the last 3 rows\n",
    "window = Window.partitionBy('customer_id').orderBy('placing_date').rowsBetween(-3, -1)\n",
    "\n",
    "(\n",
    "    df_orders_products\n",
    "    # Calculate the average revenue for the last 3 orders\n",
    "    .withColumn(\n",
    "        'avg_revenue',\n",
    "        f.avg('revenue').over(window)\n",
    "    )\n",
    "    # Calculate the difference between the total price and the average revenue\n",
    "    .withColumn(\n",
    "        'revenue_diff',\n",
    "        f.col('revenue') - f.col('avg_revenue')\n",
    "    )\n",
    ").display()"
   ]
  },
  {
   "cell_type": "markdown",
   "metadata": {},
   "source": [
    "4. For each customer, what is the absolute difference in days between each of his orders' delivery date and the next order's placing date, where the next order's placing date is before than the current order's delivery date?\n",
    "\n",
    "Let's break the question down:\n",
    "- We want to calculate the difference in days between each order delivery date and the next order placing date\n",
    "- The next order placing date should be before the current order delivery date"
   ]
  },
  {
   "cell_type": "code",
   "execution_count": null,
   "metadata": {},
   "outputs": [],
   "source": [
    "# Define the window: partition by 'customer_id', order by 'placing_date'\n",
    "window = Window.partitionBy('customer_id').orderBy('placing_date')\n",
    "\n",
    "(\n",
    "    df_orders_products\n",
    "    # Get the next order placing date for each order\n",
    "    .withColumn(\n",
    "        'next_placing_date',\n",
    "        f.lead('placing_date').over(window)\n",
    "    )\n",
    "    # Calculate the difference in days between the current\n",
    "    # order delivery date and next order placing date\n",
    "    .withColumn(\n",
    "        'days_diff',\n",
    "        f.datediff(f.col('delivery_date'), f.col('next_placing_date'))\n",
    "    )\n",
    "    # Filter the rows where the next order was placed before the current order was delivered\n",
    "    .filter(f.col('next_placing_date') < f.col('delivery_date'))\n",
    "    .select(\n",
    "        'customer_id',\n",
    "        'placing_date',\n",
    "        'delivery_date',\n",
    "        'next_placing_date',\n",
    "        'days_diff'\n",
    "    )\n",
    ").display()"
   ]
  },
  {
   "cell_type": "markdown",
   "metadata": {},
   "source": [
    "5. What is the yearly average profit increase or decrease (difference between year Y and year Y-1) for each supplier?"
   ]
  },
  {
   "cell_type": "code",
   "execution_count": null,
   "metadata": {},
   "outputs": [],
   "source": [
    "# First, get the average profit for each supplier in each year\n",
    "df_avg_profit = (\n",
    "    df_orders_products\n",
    "    .groupBy(['order_year', 'supplier_id'])\n",
    "    .agg(f.avg('profit').alias('avg_profit'))\n",
    ")\n",
    "\n",
    "df_avg_profit.display()"
   ]
  },
  {
   "cell_type": "code",
   "execution_count": null,
   "metadata": {},
   "outputs": [],
   "source": [
    "# Next, define the window: partition by 'supplier_id', order by 'order_year'\n",
    "window = Window.partitionBy('supplier_id').orderBy('order_year')\n",
    "\n",
    "(\n",
    "    df_avg_profit\n",
    "    # Get the previous year average profit for each supplier\n",
    "    .withColumn('prev_year_avg_profit', f.lag('avg_profit').over(window))\n",
    "    # Calculate the difference between the average profit and the previous year average profit\n",
    "    .withColumn('profit_diff', f.col('avg_profit') - f.col('prev_year_avg_profit'))\n",
    ").display()"
   ]
  },
  {
   "cell_type": "markdown",
   "metadata": {},
   "source": [
    "Here is the whole solution:"
   ]
  },
  {
   "cell_type": "code",
   "execution_count": null,
   "metadata": {},
   "outputs": [],
   "source": [
    "(\n",
    "    df_orders_products\n",
    "    # Get the average profit for each supplier in each year\n",
    "    .groupBy(['order_year', 'supplier_id'])\n",
    "    .agg(f.avg('profit').alias('avg_profit'))\n",
    "    # Get the previous year average profit for each supplier\n",
    "    .withColumn('prev_year_avg_profit', f.lag('avg_profit').over(window))\n",
    "    # Calculate the difference between the average profit and the previous year average profit\n",
    "    .withColumn('profit_diff', f.col('avg_profit') - f.col('prev_year_avg_profit'))\n",
    ").display()"
   ]
  },
  {
   "cell_type": "markdown",
   "metadata": {},
   "source": [
    "6. Determine the top 3 products with the highest profit margin, for each supplier country.\n",
    "\n",
    "Profit margin refers to the ratio between profit and revenue:\n",
    "\n",
    "$profit\\_margin_{product} = profit_{product} / revenue_{product}$\n",
    "\n",
    "where\n",
    "\n",
    "$profit_{product} = revenue_{product} - cost_{product}$\n",
    "\n",
    "Let's break this question down:\n",
    "- To calculate the profit of each product in each supplier country, we need to calculate its total revenue and cost for each supplier country\n",
    "- To calculate the total cost of each product, we need to multiply the cost per unit by the quantity ordered in each order\n",
    "- Next, the profit is calculated as the difference between total revenue and total cost\n",
    "- The profit margin is calculated as the ratio between profit and total revenue\n",
    "- Finally, the products are ranked by profit margin and the top 3 are selected"
   ]
  },
  {
   "cell_type": "code",
   "execution_count": null,
   "metadata": {},
   "outputs": [],
   "source": [
    "\n",
    "# First, calculate the total cost of each product order\n",
    "df_cost = (\n",
    "    df_orders_products\n",
    "    .withColumn('cost', f.col('amount') * f.col('cost_per_unit'))\n",
    ")\n",
    "\n",
    "df_cost.display()"
   ]
  },
  {
   "cell_type": "code",
   "execution_count": null,
   "metadata": {},
   "outputs": [],
   "source": [
    "# Then, get the total cost and revenue of each product, for each supplier country\n",
    "df_grouped = (\n",
    "    df_cost\n",
    "    .groupBy(['supplier_country', 'product_id'])\n",
    "    .agg(\n",
    "        f.sum('cost').alias('total_cost'),\n",
    "        f.sum('revenue').alias('total_revenue')\n",
    "    )\n",
    ")\n",
    "\n",
    "df_grouped.display()"
   ]
  },
  {
   "cell_type": "code",
   "execution_count": null,
   "metadata": {},
   "outputs": [],
   "source": [
    "# Next, calculate the profit and profit margin for each product\n",
    "df_profit_margin = (   \n",
    "    df_grouped\n",
    "    # Calculate the profit\n",
    "    .withColumn('profit', f.col('total_revenue') - f.col('total_cost'))\n",
    "    # Calculate the profit margin\n",
    "    .withColumn('profit_margin', f.col('profit') / f.col('total_revenue'))\n",
    ")\n",
    "\n",
    "df_profit_margin.display()"
   ]
  },
  {
   "cell_type": "code",
   "execution_count": null,
   "metadata": {},
   "outputs": [],
   "source": [
    "# Finally, rank the products by profit margin\n",
    "\n",
    "# Define the window: partition by 'supplier_country', order by 'profit_margin' in descending order\n",
    "window = Window.partitionBy('supplier_country').orderBy(f.desc('profit_margin'))\n",
    "\n",
    "(\n",
    "    df_profit_margin\n",
    "    # Rank the products by their profit margin\n",
    "    .withColumn('rank', f.rank().over(window))\n",
    "    # Filter the top 3 products by profit margin\n",
    "    .filter(f.col('rank') <= 3)\n",
    ").display()"
   ]
  },
  {
   "cell_type": "markdown",
   "metadata": {},
   "source": [
    "Here is the whole solution:"
   ]
  },
  {
   "cell_type": "code",
   "execution_count": null,
   "metadata": {},
   "outputs": [],
   "source": [
    "(\n",
    "    df_orders_products\n",
    "    # Calculate cost per order\n",
    "    .withColumn('cost', f.col('amount') * f.col('cost_per_unit'))\n",
    "    # Get total cost and revenue of each product, for each supplier country\n",
    "    .groupBy(['supplier_country', 'product_id'])\n",
    "    .agg(\n",
    "        f.sum('cost').alias('total_cost'),\n",
    "        f.sum('revenue').alias('total_revenue')\n",
    "    )\n",
    "    # Calculate the profit\n",
    "    .withColumn('profit', f.col('total_revenue') - f.col('total_cost'))\n",
    "    # Calculate the profit margin\n",
    "    .withColumn('profit_margin', f.col('profit') / f.col('total_revenue'))\n",
    "    # Rank the products by their profit margin\n",
    "    .withColumn('rank', f.rank().over(window))\n",
    "    # Filter the top 3 products by profit margin\n",
    "    .filter(f.col('rank') <= 3)\n",
    ").display()"
   ]
  },
  {
   "cell_type": "markdown",
   "metadata": {},
   "source": [
    "7. **BONUS** Calculate the cumulative sum of average revenue generated by each customer over the years\n",
    "\n",
    "Hint: Check the `rowsBetween()` documentation [here](https://spark.apache.org/docs/latest/api/python/reference/pyspark.sql/api/pyspark.sql.Window.rowsBetween.html#pyspark.sql.Window.rowsBetween)"
   ]
  },
  {
   "cell_type": "code",
   "execution_count": null,
   "metadata": {},
   "outputs": [],
   "source": [
    "window = (\n",
    "    Window\n",
    "    .partitionBy('customer_id')\n",
    "    .orderBy('order_year')\n",
    "    # Define the window frame: from the first year to the current year\n",
    "    .rowsBetween(Window.unboundedPreceding, Window.currentRow)\n",
    ")\n",
    "\n",
    "(\n",
    "    df_orders_products\n",
    "    # Calculate the total revenue for each customer in each year\n",
    "    .groupBy('customer_id', 'order_year')\n",
    "    .agg(f.avg('revenue').alias('avg_revenue'))\n",
    "    # Calculate the cumulative revenue for each customer over the years\n",
    "    .withColumn(\n",
    "        'cum_revenue',\n",
    "        f.sum('avg_revenue').over(window)\n",
    "    )\n",
    ").display()"
   ]
  }
 ],
 "metadata": {
  "language_info": {
   "name": "python"
  }
 },
 "nbformat": 4,
 "nbformat_minor": 2
}
