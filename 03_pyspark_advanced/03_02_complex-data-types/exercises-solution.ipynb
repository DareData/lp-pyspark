{
 "cells": [
  {
   "cell_type": "code",
   "execution_count": null,
   "metadata": {},
   "outputs": [],
   "source": [
    "import pyspark.sql.functions as f\n",
    "from pyspark.sql import Window"
   ]
  },
  {
   "cell_type": "markdown",
   "metadata": {},
   "source": [
    "Let's answer some questions about our FruitShop orders data.\n",
    "\n",
    "Load the data and recall the schema."
   ]
  },
  {
   "cell_type": "code",
   "execution_count": null,
   "metadata": {},
   "outputs": [],
   "source": [
    "df_fruitshop = spark.read.parquet('/FileStore/lp-big-data/fruitshop.parquet')\n",
    "\n",
    "df_fruitshop.printSchema()"
   ]
  },
  {
   "cell_type": "markdown",
   "metadata": {},
   "source": [
    "Answer the following questions. Good luck!"
   ]
  },
  {
   "cell_type": "markdown",
   "metadata": {},
   "source": [
    "1. What is the general average number of different items sold per order?"
   ]
  },
  {
   "cell_type": "code",
   "execution_count": null,
   "metadata": {},
   "outputs": [],
   "source": [
    "(\n",
    "    df_fruitshop\n",
    "    .withColumn(\n",
    "        'unique_item_names',\n",
    "        f.array_distinct(f.transform(f.col('items'), lambda x: x['name']))\n",
    "    )\n",
    "    .withColumn(\"num_items\", f.size(\"unique_item_names\"))\n",
    "    .select(\n",
    "        f.avg(\"num_items\").alias(\"average_items_per_order\")\n",
    "    )\n",
    ").display()"
   ]
  },
  {
   "cell_type": "markdown",
   "metadata": {},
   "source": [
    "2. What is the total amount of each fruit sold?\n",
    "\n",
    "***Hint:*** Start by transforming the data into a more usable format."
   ]
  },
  {
   "cell_type": "code",
   "execution_count": null,
   "metadata": {},
   "outputs": [],
   "source": [
    "(\n",
    "    df_fruitshop\n",
    "    .select(f.inline('items'))\n",
    "    .groupBy('name')\n",
    "    .agg(f.sum('quantity').alias('total_quantity'))\n",
    ").display()"
   ]
  },
  {
   "cell_type": "markdown",
   "metadata": {},
   "source": [
    "3. What was the total amount of `Peach` that was sold in orders where `Peach` was at discount?"
   ]
  },
  {
   "cell_type": "code",
   "execution_count": null,
   "metadata": {},
   "outputs": [],
   "source": [
    "(\n",
    "    df_fruitshop\n",
    "    # Explode items to get one row per item\n",
    "    .select(\n",
    "        'order_id',\n",
    "        'items_discount',\n",
    "        f.explode(f.col('items')).alias('item')\n",
    "    )\n",
    "    # Filter for Peach items with discount\n",
    "    .filter(\n",
    "        (f.col('item.name') == 'Peach')\n",
    "        & (f.array_contains(f.col('items_discount'), 'Peach'))\n",
    "    )\n",
    "    .select(\n",
    "        f.sum('item.quantity').alias('total_amount')\n",
    "    )\n",
    ").display()"
   ]
  },
  {
   "cell_type": "markdown",
   "metadata": {},
   "source": [
    "4. What is the price of the most expensive item in each order?"
   ]
  },
  {
   "cell_type": "code",
   "execution_count": null,
   "metadata": {},
   "outputs": [],
   "source": [
    "(\n",
    "    df_fruitshop\n",
    "    # Get item prices in a seperate array\n",
    "    .withColumn(\n",
    "        'items_price',\n",
    "        f.transform(f.col('items'), lambda x: x['price'])\n",
    "    )\n",
    "    # Get the maximum value in the prices array\n",
    "    .withColumn(\n",
    "        'max_price',\n",
    "        f.array_max(f.col('items_price'))\n",
    "    )\n",
    ").display()"
   ]
  },
  {
   "cell_type": "markdown",
   "metadata": {},
   "source": [
    "5. What is the name of the most expensive item in each order?\n",
    "\n",
    "***Hint:*** Use a window function."
   ]
  },
  {
   "cell_type": "code",
   "execution_count": null,
   "metadata": {},
   "outputs": [],
   "source": [
    "window = Window.partitionBy('order_id')\n",
    "\n",
    "(\n",
    "    df_fruitshop\n",
    "    .select(\n",
    "        'order_id',\n",
    "        f.inline('items')\n",
    "    )\n",
    "    .withColumn(\n",
    "        'max_price',\n",
    "        f.max(f.col('price')).over(window)\n",
    "    )\n",
    "    .filter(\n",
    "        f.col('price') == f.col('max_price')\n",
    "    )\n",
    "    .dropDuplicates()\n",
    "    .select(\n",
    "        'order_id',\n",
    "        'name'\n",
    "    )\n",
    ").display()"
   ]
  },
  {
   "cell_type": "markdown",
   "metadata": {},
   "source": [
    "6. What is the total amount of each fruit that is sold in orders where the number of unique items is greater than the general average?\n",
    "\n",
    "Let's break down the question:\n",
    "- Calculate the general average number of unique items sold per order.\n",
    "- Filter the orders where the number of unique items is greater than the general average.\n",
    "- Calculate the total amount of each fruit sold in the filtered orders."
   ]
  },
  {
   "cell_type": "code",
   "execution_count": null,
   "metadata": {},
   "outputs": [],
   "source": [
    "# Get the average number of items per order\n",
    "\n",
    "avg_items_per_order = (\n",
    "    df_fruitshop\n",
    "    .withColumn(\n",
    "        'unique_item_names',\n",
    "        f.array_distinct(f.transform(f.col('items'), lambda x: x['name']))\n",
    "    )\n",
    "    .withColumn(\"unique_num_items\", f.size(\"unique_item_names\"))\n",
    "    .select(\n",
    "        f.avg(\"unique_num_items\").alias(\"average_items_per_order\")\n",
    "    )\n",
    ").collect()[0][0]\n",
    "\n",
    "\n",
    "(\n",
    "    df_fruitshop\n",
    "    .withColumn('avg_items_per_order', f.lit(avg_items_per_order))\n",
    "    .filter(\n",
    "        f.size(\n",
    "            f.array_distinct(\n",
    "                f.transform(f.col('items'), lambda x: x['name'])\n",
    "            )\n",
    "        ) > f.col('avg_items_per_order')\n",
    "    )\n",
    "    .select(\n",
    "        'order_id',\n",
    "        f.explode('items').alias('item')\n",
    "    )\n",
    "    .groupBy('item.name')\n",
    "    .agg(f.sum('item.quantity').alias('total_quantity'))\n",
    "\n",
    ").display()"
   ]
  }
 ],
 "metadata": {
  "language_info": {
   "name": "python"
  }
 },
 "nbformat": 4,
 "nbformat_minor": 2
}
