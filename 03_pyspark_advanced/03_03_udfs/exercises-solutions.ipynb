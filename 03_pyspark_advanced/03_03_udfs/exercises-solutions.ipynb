{
 "cells": [
  {
   "cell_type": "code",
   "execution_count": null,
   "metadata": {},
   "outputs": [],
   "source": [
    "import numpy as np\n",
    "import pandas as pd\n",
    "\n",
    "import pyspark.sql.functions as f\n",
    "from pyspark.sql.types import StringType, IntegerType, DoubleType, FloatType, MapType, LongType\n",
    "\n",
    "from sklearn.linear_model import LinearRegression"
   ]
  },
  {
   "cell_type": "markdown",
   "metadata": {},
   "source": [
    "Read the spotify data form the dbfs and answer the following questions."
   ]
  },
  {
   "cell_type": "code",
   "execution_count": null,
   "metadata": {},
   "outputs": [],
   "source": [
    "df_spotify = (\n",
    "    spark.read.format('json')\n",
    "    .load(\"/FileStore/lp-big-data/spotify.json\")\n",
    ")"
   ]
  },
  {
   "cell_type": "markdown",
   "metadata": {},
   "source": [
    "1. What is the average number of tracks in the playlists?\n",
    "\n",
    "Use PySpark built-in functions to answer the question."
   ]
  },
  {
   "cell_type": "code",
   "execution_count": null,
   "metadata": {},
   "outputs": [],
   "source": [
    "(\n",
    "    df_spotify\n",
    "    .withColumn('num_tracks', f.size(f.col('tracks')))\n",
    "    .agg(f.avg('num_tracks').alias('avg_num_tracks'))\n",
    ").display()"
   ]
  },
  {
   "cell_type": "markdown",
   "metadata": {},
   "source": [
    "2. What is the average duration of a track in each playlist?\n",
    "\n",
    "Answer using\n",
    "- PySpark built-in functions\n",
    "- UDF"
   ]
  },
  {
   "cell_type": "code",
   "execution_count": null,
   "metadata": {},
   "outputs": [],
   "source": [
    "# Using pyspark built-in functions\n",
    "\n",
    "(\n",
    "    df_spotify\n",
    "    .withColumn('track', f.explode(f.col('tracks')))\n",
    "    .groupBy('playlist_name')\n",
    "    .agg(f.avg(f.col('track.duration_ms')).alias('avg_track_duration'))\n",
    ").display()"
   ]
  },
  {
   "cell_type": "code",
   "execution_count": null,
   "metadata": {},
   "outputs": [],
   "source": [
    "# Using udfs\n",
    "\n",
    "def avg_duration_udf(tracks):\n",
    "    if len(tracks) == 0:\n",
    "        return 0.0\n",
    "    total_duration = sum([track['duration_ms'] for track in tracks])\n",
    "    return total_duration / len(tracks)\n",
    "\n",
    "avg_duration = f.udf(avg_duration_udf, DoubleType())\n",
    "\n",
    "(\n",
    "    df_spotify\n",
    "    .withColumn('avg_track_duration', avg_duration(f.col('tracks')))\n",
    ").display()"
   ]
  },
  {
   "cell_type": "markdown",
   "metadata": {},
   "source": [
    "3. Which playlist has the highest number of unique artists?\n",
    "\n",
    "Answer using\n",
    "- PySpark built-in functions\n",
    "- Pandas UDF"
   ]
  },
  {
   "cell_type": "code",
   "execution_count": null,
   "metadata": {},
   "outputs": [],
   "source": [
    "# Using pyspark built-in functions\n",
    "\n",
    "(\n",
    "    df_spotify\n",
    "    .withColumn('artits', f.transform(f.col('tracks'), lambda x: x['artist_name']))\n",
    "    .withColumn('artists_count', f.size(f.array_distinct(f.col('artits'))))\n",
    "    .orderBy(f.desc('artists_count'))\n",
    "    .limit(1)\n",
    ").display()"
   ]
  },
  {
   "cell_type": "code",
   "execution_count": null,
   "metadata": {},
   "outputs": [],
   "source": [
    "# Using pandas udfs\n",
    "\n",
    "@f.pandas_udf(IntegerType())\n",
    "def count_artists(tracks_col: pd.Series) -> pd.Series:\n",
    "    return tracks_col.apply(lambda tracks: len(set([song[\"artist_name\"] for song in tracks])))\n",
    "\n",
    "(\n",
    "    df_spotify\n",
    "    .withColumn(\"artists_count\", count_artists(f.col(\"tracks\")))\n",
    "    .orderBy(f.desc(\"artists_count\"))\n",
    "    .limit(1)\n",
    ").display()"
   ]
  },
  {
   "cell_type": "markdown",
   "metadata": {},
   "source": [
    "4. What is the total duration of all tracks by each unique artist in each playlist?\n",
    "\n",
    "Create a new column `total_duration_per_artist` of the type `MapType(StringType(), IntegerType())` that contains the total duration of all tracks by each unique artist in each playlist.\n",
    "\n",
    "Answer using a Pandas UDF."
   ]
  },
  {
   "cell_type": "code",
   "execution_count": null,
   "metadata": {},
   "outputs": [],
   "source": [
    "@f.pandas_udf(MapType(StringType(), LongType()))\n",
    "def total_duration_per_artist_udf(tracks: pd.Series) -> pd.Series:\n",
    "    result = {}\n",
    "    \n",
    "    for track_list in tracks:\n",
    "        artist_durations = {}\n",
    "        \n",
    "        for track in track_list:\n",
    "            artist_name = track['artist_name']\n",
    "            duration = track['duration_ms']\n",
    "            \n",
    "            if artist_name in artist_durations:\n",
    "                artist_durations[artist_name] += duration\n",
    "            else:\n",
    "                artist_durations[artist_name] = duration\n",
    "        \n",
    "        # Append result for each playlist\n",
    "        result[str(track_list)] = artist_durations\n",
    "    \n",
    "    return pd.Series(result)\n",
    "\n",
    "(\n",
    "    df_spotify\n",
    "    .withColumn(\"total_duration_per_artist\", total_duration_per_artist_udf(f.col(\"tracks\")))\n",
    ").display()"
   ]
  },
  {
   "cell_type": "markdown",
   "metadata": {},
   "source": [
    "5. Train a linear regression model to predict the total duration of a playlist based on the number of artists and number of tracks in the playlist.\n",
    "\n",
    "Also create a column with the absolute difference between the actual total duration and the predicted total duration.\n",
    "\n",
    "In the end, calculate the MAE of the model."
   ]
  },
  {
   "cell_type": "code",
   "execution_count": null,
   "metadata": {},
   "outputs": [],
   "source": [
    "@f.pandas_udf(FloatType())\n",
    "def predict_total_duration_udf(tracks: pd.Series) -> pd.Series:\n",
    "    \"\"\"Predict the total duration of a spotify playlist based\n",
    "    on the number of artists and number of tracks in the playlist.\n",
    "    \"\"\"\n",
    "\n",
    "    # Extract features using pandas\n",
    "    num_artists = tracks.apply(lambda x: len(set([song[\"artist_name\"] for song in x])))\n",
    "    num_tracks = tracks.apply(lambda x: len(x))\n",
    "    total_duration = tracks.apply(lambda x: sum([song[\"duration_ms\"] for song in x]))\n",
    "\n",
    "    X = np.vstack([num_artists, num_tracks]).T\n",
    "    y = total_duration.values\n",
    "    model = LinearRegression()\n",
    "    model.fit(X, y)\n",
    "    predictions = model.predict(X)\n",
    "    return pd.Series(predictions)\n",
    "\n",
    "@f.pandas_udf(FloatType())\n",
    "def get_total_duration_udf(tracks: pd.Series) -> pd.Series:\n",
    "    return tracks.apply(lambda x: sum([song[\"duration_ms\"] for song in x]))\n",
    "\n",
    "df_spotify_predictions = (\n",
    "    df_spotify\n",
    "    .withColumn(\n",
    "        'predicted_total_duration',\n",
    "        predict_total_duration_udf(\n",
    "            f.col('tracks')\n",
    "        )\n",
    "    )\n",
    "    .withColumn('total_duration', get_total_duration_udf(f.col('tracks')))\n",
    "    .withColumn('abs_error', f.abs(f.col('predicted_total_duration') - f.col('total_duration')))\n",
    ")\n",
    "\n",
    "df_spotify_predictions.display()"
   ]
  },
  {
   "cell_type": "code",
   "execution_count": null,
   "metadata": {},
   "outputs": [],
   "source": [
    "df_spotify_predictions.agg(f.avg('abs_error')).show()"
   ]
  }
 ],
 "metadata": {
  "language_info": {
   "name": "python"
  }
 },
 "nbformat": 4,
 "nbformat_minor": 2
}
