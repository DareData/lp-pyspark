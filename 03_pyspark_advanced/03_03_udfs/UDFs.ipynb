{
 "cells": [
  {
   "cell_type": "code",
   "execution_count": null,
   "metadata": {},
   "outputs": [],
   "source": [
    "import numpy as np\n",
    "import pyspark.sql.functions as f\n",
    "from pyspark.sql.types import ArrayType, StringType, IntegerType, BooleanType, DoubleType, FloatType\n",
    "from sklearn.linear_model import LinearRegression"
   ]
  },
  {
   "cell_type": "markdown",
   "metadata": {},
   "source": [
    "Create the dataframe with complex data types"
   ]
  },
  {
   "cell_type": "code",
   "execution_count": null,
   "metadata": {},
   "outputs": [],
   "source": [
    "import pandas as pd\n",
    "\n",
    "# Sample data\n",
    "data = [\n",
    "    {\"order_id\": 5642, \"order_date\": datetime.strptime(\"2024-05-18\", \"%Y-%m-%d\").date(),\n",
    "    \"items\": [\n",
    "        {\"name\": \"Apple\", \"quantity\": 1.0, \"price\": 2.99},\n",
    "        {\"name\": \"Banana\", \"quantity\": 1.7, \"price\": 1.99}],\n",
    "    'items_discount': ['Apple']},\n",
    "    {\"order_id\": 9762, \"order_date\": datetime.strptime(\"2024-05-02\", \"%Y-%m-%d\").date(),\n",
    "    \"items\": [\n",
    "        {\"name\": \"Strawberry\", \"quantity\": 0.5, \"price\": 6.99},\n",
    "        {\"name\": \"Apple\", \"quantity\": 3.0, \"price\": 2.99},\n",
    "        {\"name\": \"Peach\", \"quantity\": 2.5, \"price\": 3.39}],\n",
    "    'items_discount': ['Apple', 'Peach']},\n",
    "    {\"order_id\": 3652, \"order_date\": datetime.strptime(\"2024-05-23\", \"%Y-%m-%d\").date(),\n",
    "    \"items\": [\n",
    "        {\"name\": \"Banana\", \"quantity\": 1.5, \"price\": 1.99}],\n",
    "    'items_discount': []},\n",
    "    {\"order_id\": 1276, \"order_date\": datetime.strptime(\"2024-05-10\", \"%Y-%m-%d\").date(),\n",
    "    \"items\": [\n",
    "        {\"name\": \"Apple\", \"quantity\": 2.0, \"price\": 2.99},\n",
    "        {\"name\": \"Banana\", \"quantity\": 0.5, \"price\": 1.99},\n",
    "        {\"name\": \"Strawberry\", \"quantity\": 1.0, \"price\": 6.99},\n",
    "        {\"name\": \"Strawberry\", \"quantity\": 1.0, \"price\": 6.99},\n",
    "        {\"name\": \"Peach\", \"quantity\": 1.0, \"price\": 3.39}],\n",
    "    'items_discount': ['Peach', 'Banana']},\n",
    "    {\"order_id\": 8763, \"order_date\": datetime.strptime(\"2024-05-14\", \"%Y-%m-%d\").date(),\n",
    "    \"items\": [\n",
    "        {\"name\": \"Strawberry\", \"quantity\": 1.0, \"price\": 6.99},\n",
    "        {\"name\": \"Peach\", \"quantity\": 1.0, \"price\": 3.39},\n",
    "        {\"name\": \"Mango\", \"quantity\": 1.5, \"price\": 5.99}],\n",
    "    'items_discount': ['Mango']},\n",
    "    {\"order_id\": 7652, \"order_date\": datetime.strptime(\"2024-05-22\", \"%Y-%m-%d\").date(),\n",
    "    \"items\": [\n",
    "        {\"name\": \"Banana\", \"quantity\": 1.0, \"price\": 1.99},\n",
    "        {\"name\": \"Mango\", \"quantity\": 1.5, \"price\": 5.99}],\n",
    "    'items_discount': ['Mango', 'Banana']},\n",
    "    {\"order_id\": 7631, \"order_date\": datetime.strptime(\"2024-05-22\", \"%Y-%m-%d\").date(),\n",
    "    \"items\": [\n",
    "        {\"name\": \"Banana\", \"quantity\": 1.0, \"price\": 1.99},\n",
    "        {\"name\": \"Banana\", \"quantity\": 2.5, \"price\": 1.99},],\n",
    "    'items_discount': []}\n",
    "]\n",
    "\n",
    "# Define the schema\n",
    "schema = StructType([\n",
    "    StructField('order_id', IntegerType(), False),\n",
    "    StructField('order_date', DateType(), False),\n",
    "    StructField(\n",
    "        'items',\n",
    "        ArrayType(\n",
    "            StructType([\n",
    "                StructField('name', StringType(), False),\n",
    "                StructField('quantity', FloatType(), False),\n",
    "                StructField('price', FloatType(), False)\n",
    "            ]),\n",
    "            False\n",
    "        ),\n",
    "        False\n",
    "    ),\n",
    "    StructField(\"items_discount\", ArrayType(StringType()), True)\n",
    "])\n",
    "\n",
    "\n",
    "# Create DataFrame\n",
    "df_fruitshop = spark.createDataFrame(data, schema=schema)\n",
    "\n",
    "df_fruitshop.display()"
   ]
  },
  {
   "cell_type": "markdown",
   "metadata": {},
   "source": [
    "Transform"
   ]
  },
  {
   "cell_type": "code",
   "execution_count": null,
   "metadata": {},
   "outputs": [],
   "source": [
    "# Define the transform function. This receives a column and a function to apply to the column.\n",
    "fn = f.transform(f.col('items'), lambda x: x['name'])\n",
    "\n",
    "df_fruitshop_transformed = (\n",
    "    df_fruitshop\n",
    "    # Apply the transformation to the dataframe and save the results to a new column\n",
    "    .withColumn('item_names', fn)\n",
    ")\n",
    "\n",
    "df_fruitshop_transformed.display()"
   ]
  },
  {
   "cell_type": "code",
   "execution_count": null,
   "metadata": {},
   "outputs": [],
   "source": [
    "def extract_item_names(items):\n",
    "    return [item['name'] for item in items]\n",
    "\n",
    "extract_item_names_udf = f.udf(extract_item_names, ArrayType(StringType()))\n",
    "\n",
    "(\n",
    "    df_fruitshop\n",
    "    .withColumn(\n",
    "        'item_names',\n",
    "        extract_item_names_udf(f.col('items'))\n",
    "    )\n",
    ").display()"
   ]
  },
  {
   "cell_type": "markdown",
   "metadata": {},
   "source": [
    "Size"
   ]
  },
  {
   "cell_type": "code",
   "execution_count": null,
   "metadata": {},
   "outputs": [],
   "source": [
    "\n",
    "df_fruitshop_size = (\n",
    "    df_fruitshop_transformed\n",
    "    .withColumn(\n",
    "        'nr_items',\n",
    "        f.size(f.col('items'))\n",
    "    )\n",
    ")\n",
    "\n",
    "df_fruitshop_size.display()"
   ]
  },
  {
   "cell_type": "code",
   "execution_count": null,
   "metadata": {},
   "outputs": [],
   "source": [
    "def count_items(items):\n",
    "    return len(items)\n",
    "\n",
    "count_items_udf = f.udf(count_items, IntegerType())\n",
    "\n",
    "(\n",
    "    df_fruitshop\n",
    "    .withColumn(\n",
    "        'nr_items',\n",
    "        count_items_udf(f.col('items'))\n",
    "    )\n",
    ").display()"
   ]
  },
  {
   "cell_type": "markdown",
   "metadata": {},
   "source": [
    "Array distinct"
   ]
  },
  {
   "cell_type": "code",
   "execution_count": null,
   "metadata": {},
   "outputs": [],
   "source": [
    "df_fruitshop_unique = (\n",
    "    df_fruitshop_size\n",
    "    .withColumn(\n",
    "        'unique_item_names',\n",
    "        f.array_distinct(f.col('item_names'))\n",
    "    )\n",
    "    .withColumn(\n",
    "        'nr_unique_items',\n",
    "        f.size(f.col('unique_item_names'))\n",
    "    )\n",
    ")\n",
    "\n",
    "df_fruitshop_unique.display()"
   ]
  },
  {
   "cell_type": "code",
   "execution_count": null,
   "metadata": {},
   "outputs": [],
   "source": [
    "def count_unique_items(items):\n",
    "   unique_items_list = list(set([item['name'] for item in items]))\n",
    "   return len(unique_items_list)\n",
    "\n",
    "count_unique_items_udf = f.udf(count_unique_items, ArrayType(IntegerType()))\n",
    "\n",
    "(\n",
    "    df_fruitshop\n",
    "    .withColumn(\n",
    "        'nr_unique_items',\n",
    "        count_unique_items_udf(f.col('items'))\n",
    "    )\n",
    ").display()"
   ]
  },
  {
   "cell_type": "markdown",
   "metadata": {},
   "source": [
    "Array contains"
   ]
  },
  {
   "cell_type": "code",
   "execution_count": null,
   "metadata": {},
   "outputs": [],
   "source": [
    "filtered_fruitshop_df = (\n",
    "    df_fruitshop_unique\n",
    "    .filter(\n",
    "        f.array_contains(f.col('unique_item_names'), 'Banana')\n",
    "    )\n",
    ")\n",
    "\n",
    "filtered_fruitshop_df.display()"
   ]
  },
  {
   "cell_type": "code",
   "execution_count": null,
   "metadata": {},
   "outputs": [],
   "source": [
    "def contains_banana(items):\n",
    "    return 'Banana' in [item['name'] for item in items]\n",
    "\n",
    "contains_banana_udf = f.udf(contains_banana, BooleanType())\n",
    "\n",
    "(\n",
    "    df_fruitshop\n",
    "    .filter(\n",
    "        contains_banana_udf(f.col('items'))\n",
    "    )\n",
    ").display()"
   ]
  },
  {
   "cell_type": "markdown",
   "metadata": {},
   "source": [
    "Here are some questions that would be hard to answer using built-in functions:"
   ]
  },
  {
   "cell_type": "markdown",
   "metadata": {},
   "source": [
    "1. Calculate the average price per unit of each item across all orders where the item has a quantity greater than 1."
   ]
  },
  {
   "cell_type": "code",
   "execution_count": null,
   "metadata": {},
   "outputs": [],
   "source": [
    "# Define a UDF to calculate average price per unit for items with quantity > 1\n",
    "def avg_price_per_unit(items):\n",
    "    total_price = 0.0\n",
    "    total_quantity = 0.0\n",
    "    \n",
    "    for item in items:\n",
    "        if item['quantity'] > 1:\n",
    "            total_price += item['price'] * item['quantity']\n",
    "            total_quantity += item['quantity']\n",
    "    \n",
    "    if total_quantity > 0:\n",
    "        return total_price / total_quantity\n",
    "    else:\n",
    "        return 0.0\n",
    "    \n",
    "avg_price_per_unit_udf = f.udf(avg_price_per_unit, DoubleType())\n",
    "\n",
    "# Apply the UDF to calculate average price per unit for each item\n",
    "avg_price_per_unit_df = df_fruitshop.withColumn(\n",
    "    'avg_price_per_unit',\n",
    "    avg_price_per_unit_udf(f.col('items'))\n",
    ")\n",
    "\n",
    "avg_price_per_unit_df.display()"
   ]
  },
  {
   "cell_type": "markdown",
   "metadata": {},
   "source": [
    "2. Identify the order with the highest total cost, considering both item price and quantity."
   ]
  },
  {
   "cell_type": "code",
   "execution_count": null,
   "metadata": {},
   "outputs": [],
   "source": [
    "# Define a UDF to calculate total cost for each order\n",
    "def calculate_total_cost(items):\n",
    "    total_cost = 0\n",
    "\n",
    "    for item in items:\n",
    "        total_cost += item['quantity'] * item['price']\n",
    "    \n",
    "    return total_cost\n",
    "\n",
    "calculate_total_cost_udf = f.udf(calculate_total_cost, DoubleType())\n",
    "\n",
    "# Add a column with the total cost for each order\n",
    "df_fruitshop_with_total_cost = df_fruitshop.withColumn(\n",
    "    'total_cost',\n",
    "    calculate_total_cost_udf(f.col('items'))\n",
    ")\n",
    "\n",
    "# Find the order with the highest total cost\n",
    "max_total_cost_order = df_fruitshop_with_total_cost.orderBy(\n",
    "    f.col('total_cost').desc()\n",
    ").limit(1)\n",
    "\n",
    "max_total_cost_order.display()"
   ]
  },
  {
   "cell_type": "markdown",
   "metadata": {},
   "source": [
    "Pandas UDFs. Explain the theory behind it.\n",
    "\n",
    "Find a way to show the advantages."
   ]
  },
  {
   "cell_type": "markdown",
   "metadata": {},
   "source": [
    "Pandas UDFS:\n",
    "\n",
    "1. **Performance Optimization:** Pandas UDFs can perform vectorized operations on Pandas DataFrame chunks, which are more efficient than row-by-row operations typical in regular UDFs.\n",
    "2. **Ease of Use and Familiarity:** Pandas UDFs allow you to leverage the rich functionality of Pandas, including its extensive libraries for data manipulation, statistical operations, and more."
   ]
  },
  {
   "cell_type": "markdown",
   "metadata": {},
   "source": [
    "Load the spotify playlists dataset"
   ]
  },
  {
   "cell_type": "code",
   "execution_count": null,
   "metadata": {},
   "outputs": [],
   "source": [
    "%sh \n",
    "\n",
    "wget https://github.com/inesmcm26/lp-big-data/raw/main/data/spotify.csv"
   ]
  },
  {
   "cell_type": "code",
   "execution_count": null,
   "metadata": {},
   "outputs": [],
   "source": [
    "%fs\n",
    "\n",
    "cp file:/databricks/driver/spotify.csv dbfs:/FileStore/lp-big-data/spotify.csv"
   ]
  },
  {
   "cell_type": "markdown",
   "metadata": {},
   "source": [
    "Answer some questions using\n",
    "\n",
    "1. PySpark functions\n",
    "2. UDFs\n",
    "3. Pandas UDFs"
   ]
  },
  {
   "cell_type": "markdown",
   "metadata": {},
   "source": [
    "Performance of udfs vs pandas udfs"
   ]
  },
  {
   "cell_type": "markdown",
   "metadata": {},
   "source": [
    "1. Get the number of tracks in each playlist"
   ]
  },
  {
   "cell_type": "code",
   "execution_count": null,
   "metadata": {},
   "outputs": [],
   "source": [
    "# 1. Using pyspark built-in functions\n",
    "df_num_tracks = df_spotify.withColumn(\"num_tracks\", f.size(f.col(\"tracks\")))\n",
    "\n",
    "# 2. Using UDF\n",
    "def count_tracks(tracks):\n",
    "    return len(tracks)\n",
    "\n",
    "count_tracks_udf = f.udf(count_tracks, IntegerType())\n",
    "\n",
    "df_num_tracks = df_spotify.withColumn(\"num_tracks\", count_tracks_udf(f.col(\"tracks\")))\n",
    "\n",
    "\n",
    "# Using pandas udfs\n",
    "@f.pandas_udf(IntegerType())\n",
    "def count_tracks(tracks: pd.Series) -> pd.Series:\n",
    "    return tracks.apply(len)\n",
    "\n",
    "df_num_tracks = df_spotify.withColumn(\"num_tracks\", count_tracks(f.col(\"tracks\")))"
   ]
  },
  {
   "cell_type": "markdown",
   "metadata": {},
   "source": [
    "2. Get the number of albuns in each playlist"
   ]
  },
  {
   "cell_type": "code",
   "execution_count": null,
   "metadata": {},
   "outputs": [],
   "source": [
    "# 1. Using pyspark built-in functions\n",
    "df_num_albums = (\n",
    "    df_num_tracks\n",
    "    .withColumn(\"albums\", f.transform(f.col(\"tracks\"), lambda x: x[\"album\"]))\n",
    "    .withColumn(\"num_albuns\", f.size(f.array_distinct(f.col(\"albums\"))))\n",
    ")\n",
    "\n",
    "# 2. Using UDF\n",
    "def count_albums(tracks):\n",
    "    return len(set([song[\"name\"] for song in tracks]))\n",
    "\n",
    "count_albums_udf = f.udf(count_albums, IntegerType())\n",
    "\n",
    "df_num_albums = (\n",
    "    df_num_tracks\n",
    "    .withColumn(\"num_albuns\", count_albums_udf(f.col(\"tracks\")))\n",
    ")\n",
    "\n",
    "# Using pandas udfs\n",
    "@f.pandas_udf(IntegerType())\n",
    "def count_albums(tracks: pd.Series) -> pd.Series:\n",
    "    return tracks.apply(lambda x: len(set([song[\"name\"] for song in x])))\n",
    "\n",
    "df_num_albums = (\n",
    "    df_num_tracks\n",
    "    .withColumn(\"num_albuns\", count_albums(f.col(\"tracks\")))\n",
    ")"
   ]
  },
  {
   "cell_type": "markdown",
   "metadata": {},
   "source": [
    "3. Get the total duration of each playlist"
   ]
  },
  {
   "cell_type": "code",
   "execution_count": null,
   "metadata": {},
   "outputs": [],
   "source": [
    "# 1. Using pyspark built-in functions\n",
    "df_total_duration = (\n",
    "    df_num_albums\n",
    "    # First apply transform to get a list of durations\n",
    "    .withColumn(\"durations\", f.transform(f.col(\"tracks\"), lambda x: x[\"duration_ms\"]))\n",
    "    # Then sum the durations\n",
    "    .withColumn(\"total_duration\", f.sum(f.col(\"durations\")))\n",
    ")\n",
    "\n",
    "\n",
    "# 2. Using UDF\n",
    "def sum_durations(tracks):\n",
    "    return sum([song[\"duration_ms\"] for song in tracks])\n",
    "\n",
    "sum_durations_udf = f.udf(sum_durations, IntegerType())\n",
    "\n",
    "df_total_duration = (\n",
    "    df_num_albums\n",
    "    .withColumn(\"total_duration\", sum_durations_udf(f.col(\"tracks\")))\n",
    ")\n",
    "\n",
    "# Using pandas udfs\n",
    "@f.pandas_udf(IntegerType())\n",
    "def sum_durations(tracks: pd.Series) -> pd.Series:\n",
    "    return tracks.apply(lambda x: sum([song[\"duration_ms\"] for song in x]))\n",
    "\n",
    "df_total_duration = (\n",
    "    df_num_albums\n",
    "    .withColumn(\"total_duration\", sum_durations(f.col(\"tracks\")))\n",
    ")"
   ]
  },
  {
   "cell_type": "markdown",
   "metadata": {},
   "source": [
    "Predict the number of followers based on the number of tracks, number of albums and total duration."
   ]
  },
  {
   "cell_type": "code",
   "execution_count": null,
   "metadata": {},
   "outputs": [],
   "source": [
    "@f.pandas_udf(FloatType())\n",
    "def predict_num_followers_udf(\n",
    "    num_tracks: pd.Series,\n",
    "    num_albums: pd.Series,\n",
    "    total_duration: pd.Series,\n",
    "    num_followers: pd.Series\n",
    ") -> pd.Series:\n",
    "    \"\"\"Predict the number of followers of a spotify playlist based\n",
    "    on the number of tracks, albums and total duration\n",
    "    \"\"\"\n",
    "\n",
    "    X = np.vstack([num_tracks, num_albums, total_duration]).T\n",
    "    y = num_followers.values\n",
    "    model = LinearRegression()\n",
    "    model.fit(X, y)\n",
    "    predictions = model.predict(X)\n",
    "    return pd.Series(predictions)\n",
    "\n",
    "df_predictions = (\n",
    "    df_total_duration\n",
    "    .withColumn(\"predicted_num_followers\",\n",
    "                predict_num_followers_udf(\n",
    "                    f.col(\"num_tracks\"),\n",
    "                    f.col(\"num_albums\"),\n",
    "                    f.col(\"total_duration\"),\n",
    "                    f.col(\"num_followers\"))\n",
    "                )\n",
    ")\n",
    "\n",
    "df_predictions.display()"
   ]
  }
 ],
 "metadata": {
  "kernelspec": {
   "display_name": "daredata",
   "language": "python",
   "name": "python3"
  },
  "language_info": {
   "codemirror_mode": {
    "name": "ipython",
    "version": 3
   },
   "file_extension": ".py",
   "mimetype": "text/x-python",
   "name": "python",
   "nbconvert_exporter": "python",
   "pygments_lexer": "ipython3",
   "version": "3.10.13"
  }
 },
 "nbformat": 4,
 "nbformat_minor": 2
}
